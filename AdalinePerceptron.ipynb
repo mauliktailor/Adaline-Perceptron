{
  "nbformat": 4,
  "nbformat_minor": 0,
  "metadata": {
    "colab": {
      "name": "ANN01.ipynb",
      "provenance": [],
      "collapsed_sections": []
    },
    "kernelspec": {
      "name": "python3",
      "display_name": "Python 3"
    }
  },
  "cells": [
    {
      "cell_type": "code",
      "metadata": {
        "id": "-MdKpqljexhL",
        "colab_type": "code",
        "colab": {}
      },
      "source": [
        "import pandas as pd\n",
        "import numpy as np\n",
        "import matplotlib.pyplot as plt\n",
        "import math"
      ],
      "execution_count": 0,
      "outputs": []
    },
    {
      "cell_type": "markdown",
      "metadata": {
        "id": "VnKtWt8UhBe0",
        "colab_type": "text"
      },
      "source": [
        "1) Using the rnorm() function in R (or equivalent in Matlab or Python or etc), create a vector, x,\n",
        "containing 5000 observations drawn from a Gaussian distribution N(0, 1) [ie, a normal distribution\n",
        "with mean 0 and variance 1]. This vector x represents your set of inputs x\n",
        "\n"
      ]
    },
    {
      "cell_type": "code",
      "metadata": {
        "id": "MQwnnzyqe3XV",
        "colab_type": "code",
        "colab": {}
      },
      "source": [
        "x=np.random.normal(0,1,5000)"
      ],
      "execution_count": 0,
      "outputs": []
    },
    {
      "cell_type": "markdown",
      "metadata": {
        "id": "neY7RpaMhGcQ",
        "colab_type": "text"
      },
      "source": [
        "2) Using the rnorm() function in R (or equivalent in Matlab or Python or etc), create a vector, eps,\n",
        "containing 5000 observation drawn from a N(0, 0.25) distribution; ie, a normal distribution with\n",
        "mean 0 and variance 0.25. "
      ]
    },
    {
      "cell_type": "code",
      "metadata": {
        "id": "L4O4cUNnfzhW",
        "colab_type": "code",
        "colab": {}
      },
      "source": [
        "eps = np.random.normal(0,0.25,5000)"
      ],
      "execution_count": 0,
      "outputs": []
    },
    {
      "cell_type": "markdown",
      "metadata": {
        "id": "E3QMv1oihh60",
        "colab_type": "text"
      },
      "source": [
        "3) Using vectors x and eps, generate a vector y according to the model\n",
        "y = -1 + 0.5x – 2x2 + 0.3x3 + eps\n",
        "\n",
        "w_true = (-1, +0.5, -2, +0.3)."
      ]
    },
    {
      "cell_type": "code",
      "metadata": {
        "id": "VeOb0LnNgTZo",
        "colab_type": "code",
        "colab": {}
      },
      "source": [
        "x1=x\n",
        "x2=x**2\n",
        "x3=x**3\n",
        "y = -1 + 0.5*x1-2*x2 + 0.3*x3 + eps\n",
        "# y = -1 + 0.5*x1-2*x2 + 7*x3 + eps"
      ],
      "execution_count": 0,
      "outputs": []
    },
    {
      "cell_type": "markdown",
      "metadata": {
        "id": "bRL_RGhH2Ixu",
        "colab_type": "text"
      },
      "source": [
        "# Setting up the input vectors and appending 1 in the start as x_0"
      ]
    },
    {
      "cell_type": "code",
      "metadata": {
        "id": "wMQiYjEkbHqp",
        "colab_type": "code",
        "colab": {}
      },
      "source": [
        "inp_x=[]\n",
        "for i in range(x.size):\n",
        "  temp=[]\n",
        "  inp_x.append([1,x1[i],x2[i],x3[i]])\n",
        "# print(inp_x)"
      ],
      "execution_count": 0,
      "outputs": []
    },
    {
      "cell_type": "code",
      "metadata": {
        "id": "74njGjL7yly4",
        "colab_type": "code",
        "colab": {}
      },
      "source": [
        ""
      ],
      "execution_count": 0,
      "outputs": []
    },
    {
      "cell_type": "markdown",
      "metadata": {
        "id": "SyFuOcOY2i-n",
        "colab_type": "text"
      },
      "source": [
        "# Initializing the weight vector"
      ]
    },
    {
      "cell_type": "code",
      "metadata": {
        "id": "BtF92NLUgwwM",
        "colab_type": "code",
        "colab": {}
      },
      "source": [
        "np.random.seed(1000)\n",
        "w = np.random.random(4)\n",
        "itr = 1\n",
        "etta = 0.00001 #learning rate"
      ],
      "execution_count": 0,
      "outputs": []
    },
    {
      "cell_type": "code",
      "metadata": {
        "id": "aRyScXCIEeEl",
        "colab_type": "code",
        "outputId": "966d856f-bfb7-4684-ce2f-7d3093ee8709",
        "colab": {
          "base_uri": "https://localhost:8080/",
          "height": 51
        }
      },
      "source": [
        "print(\"Weight vector:\")\n",
        "print(str(w))\n",
        "error=[]"
      ],
      "execution_count": 0,
      "outputs": [
        {
          "output_type": "stream",
          "text": [
            "Weight vector:\n",
            "[0.65358959 0.11500694 0.95028286 0.4821914 ]\n"
          ],
          "name": "stdout"
        }
      ]
    },
    {
      "cell_type": "markdown",
      "metadata": {
        "id": "V7AbL-mN5ly5",
        "colab_type": "text"
      },
      "source": [
        "### Batch Mode GD updates w after summing over **all** x(i), y(i)\n",
        "We sum all the errors in delta_w vector and weight is updated in the end \n"
      ]
    },
    {
      "cell_type": "code",
      "metadata": {
        "id": "mqIHryBGcie9",
        "colab_type": "code",
        "colab": {}
      },
      "source": [
        "while itr != 100:\n",
        "  delta_w=np.zeros(w.size)\n",
        "  for i in range(x.size):\n",
        "    y_i = np.dot(w,inp_x[i])\n",
        "    err = y[i]-y_i\n",
        "    for j in range(w.size):\n",
        "      delta_w[j]+=float(etta*(err)*inp_x[i][j])\n",
        "    error.append(err**2)\n",
        "  for k in range(w.size):\n",
        "    w[k]+=delta_w[k]\n",
        "  itr+=1 "
      ],
      "execution_count": 0,
      "outputs": []
    },
    {
      "cell_type": "code",
      "metadata": {
        "id": "sZL39uM9tuoT",
        "colab_type": "code",
        "colab": {}
      },
      "source": [
        "# Adaline Gradiant Descent function\n",
        "def Adaline_Batch_GD_1(epoch, x,y,etta,degree):\n",
        "  inp_x=[]\n",
        "  temp_variables=[]\n",
        "  for j in range(1,degree+1):\n",
        "    temp_variables.append(x**j)\n",
        "  for j in range(x.size):\n",
        "    temp=[1]\n",
        "    for k in range(len(temp_variables)):\n",
        "      temp.append(temp_variables[k][j])\n",
        "    # print(temp)\n",
        "    inp_x.append(temp)\n",
        "  # print('Input Vector:',inp_x)\n",
        "  error=[]\n",
        "  np.random.seed(1000)\n",
        "  w = np.random.random(degree+1)\n",
        "  itr = 1\n",
        "  while itr != epoch:\n",
        "    delta_w=np.zeros(w.size)\n",
        "    for i in range(x.size):\n",
        "      y_i = np.dot(w,inp_x[i])\n",
        "      err = y[i]-y_i\n",
        "      for j in range(w.size):\n",
        "        delta_w[j]+=float(etta*(err)*inp_x[i][j])\n",
        "      error.append(err**2)\n",
        "    for k in range(w.size):\n",
        "      w[k]+=delta_w[k]\n",
        "    itr+=1 \n",
        "  print(\"Weight vector after:\")\n",
        "  print(str(w))\n",
        "  print(\"True Weights:\" )\n",
        "  print(str([-1, 0.5, -2, 0.3]))\n",
        "  plt.figure()\n",
        "  plt.plot(error)\n",
        "  plt.xlabel(\"Iterations\")\n",
        "  plt.ylabel(\"Error value for degree:\"+str(degree))\n",
        "  return w,inp_x"
      ],
      "execution_count": 0,
      "outputs": []
    },
    {
      "cell_type": "code",
      "metadata": {
        "id": "fclQ9Cp2z7C8",
        "colab_type": "code",
        "outputId": "1d83431a-0cb4-438b-8d3a-e0a78e73e732",
        "colab": {
          "base_uri": "https://localhost:8080/",
          "height": 347
        }
      },
      "source": [
        "w,a=Adaline_Batch_GD_1(epoch=100,x=x,y=y,etta=0.00001,degree=3)"
      ],
      "execution_count": 0,
      "outputs": [
        {
          "output_type": "stream",
          "text": [
            "Weight vector after:\n",
            "[-0.98572634  0.43703395 -2.00692824  0.31504489]\n",
            "True Weights:\n",
            "[-1, 0.5, -2, 0.3]\n"
          ],
          "name": "stdout"
        },
        {
          "output_type": "display_data",
          "data": {
            "image/png": "[encoded data removed]",
            "text/plain": [
              "<Figure size 432x288 with 1 Axes>"
            ]
          },
          "metadata": {
            "tags": []
          }
        }
      ]
    },
    {
      "cell_type": "code",
      "metadata": {
        "id": "yVs7ZI6ncDkL",
        "colab_type": "code",
        "colab": {}
      },
      "source": [
        "#calculate cross validation score\n",
        "def predict(w,x):\n",
        "  # print(str(w),str(x))\n",
        "  return np.dot(w,x)\n",
        "\n",
        "def calc_score(w, inp_x,y):\n",
        "  pred_vals=[]\n",
        "  actual =[]\n",
        "  for i in range(len(inp_x)):\n",
        "    pred_vals.append(predict(w,inp_x[i]))\n",
        "    actual.append(y[i])\n",
        "  # print(str(pred_vals),str(actual))\n",
        "  actual= np.array(actual)\n",
        "  pred_vals = np.array(pred_vals)\n",
        "  err= sum((actual-pred_vals)**2/len(actual))\n",
        "  return err\n",
        "    \n",
        "def cross_validation_1(x,y, epochs,etta,degree):\n",
        "  # epochs = [10,50,100,200]\n",
        "  score=[]\n",
        "  for i in degree:\n",
        "    w,inp_x = Adaline_Batch_GD_1(epochs, x=x,y=y,etta=0.00001,degree=i)\n",
        "    score.append(calc_score(w,inp_x,y))\n",
        "  index= np.argmin(score)\n",
        "  print('Score:',score)\n",
        "  return(degree[index])"
      ],
      "execution_count": 0,
      "outputs": []
    },
    {
      "cell_type": "code",
      "metadata": {
        "id": "aS2LHmFV-GFl",
        "colab_type": "code",
        "outputId": "3092abdc-f317-4d3e-e7c1-67fa40a87e38",
        "colab": {
          "base_uri": "https://localhost:8080/",
          "height": 1000
        }
      },
      "source": [
        "optimal_degree=cross_validation_1(x,y,epochs=100,etta=0.00001,degree=[1,2,3])\n",
        "print('Best Degree =:',optimal_degree)"
      ],
      "execution_count": 0,
      "outputs": [
        {
          "output_type": "stream",
          "text": [
            "Weight vector after:\n",
            "[-2.93988815  1.48751097]\n",
            "True Weights:\n",
            "[-1, 0.5, -2, 0.3]\n",
            "Weight vector after:\n",
            "[-0.95738241  1.35826679 -2.03685985]\n",
            "True Weights:\n",
            "[-1, 0.5, -2, 0.3]\n",
            "Weight vector after:\n",
            "[-0.98572634  0.43703395 -2.00692824  0.31504489]\n",
            "True Weights:\n",
            "[-1, 0.5, -2, 0.3]\n",
            "Score: [8.132353866302486, 0.49681769239929024, 0.0636808972146357]\n",
            "Best Degree =: 3\n"
          ],
          "name": "stdout"
        },
        {
          "output_type": "display_data",
          "data": {
            "image/png": "[encoded data removed]",
            "text/plain": [
              "<Figure size 432x288 with 1 Axes>"
            ]
          },
          "metadata": {
            "tags": []
          }
        },
        {
          "output_type": "display_data",
          "data": {
            "image/png": "[encoded data removed]",
            "text/plain": [
              "<Figure size 432x288 with 1 Axes>"
            ]
          },
          "metadata": {
            "tags": []
          }
        },
        {
          "output_type": "display_data",
          "data": {
            "image/png": "[encoded data removed]",
            "text/plain": [
              "<Figure size 432x288 with 1 Axes>"
            ]
          },
          "metadata": {
            "tags": []
          }
        }
      ]
    },
    {
      "cell_type": "markdown",
      "metadata": {
        "id": "QOT_PFbr6RiB",
        "colab_type": "text"
      },
      "source": [
        "### Incremental Mode GD updates w for **each** x(i), y(i)\n",
        "\n",
        "Here we Update weight for each data point"
      ]
    },
    {
      "cell_type": "markdown",
      "metadata": {
        "id": "dQ8rLFDq7OUD",
        "colab_type": "text"
      },
      "source": [
        "Initilization"
      ]
    },
    {
      "cell_type": "code",
      "metadata": {
        "id": "XT8L2X7Ytw1Q",
        "colab_type": "code",
        "outputId": "8ccc6140-4ef6-470c-c2d0-49f7c9d3210c",
        "colab": {
          "base_uri": "https://localhost:8080/",
          "height": 51
        }
      },
      "source": [
        "np.random.seed(1000)\n",
        "w = np.random.random(4)\n",
        "itr = 1\n",
        "etta = 0.001 #learning rate\n",
        "print(\"Weight vector:\")\n",
        "print(str(w))\n",
        "error=[]"
      ],
      "execution_count": 0,
      "outputs": [
        {
          "output_type": "stream",
          "text": [
            "Weight vector:\n",
            "[0.65358959 0.11500694 0.95028286 0.4821914 ]\n"
          ],
          "name": "stdout"
        }
      ]
    },
    {
      "cell_type": "code",
      "metadata": {
        "id": "drXk6h7X7XpQ",
        "colab_type": "code",
        "colab": {}
      },
      "source": [
        "while itr != 2:\n",
        "  for i in range(x.size):\n",
        "    y_i = np.dot(w,inp_x[i])\n",
        "    err = y[i]-y_i\n",
        "    for j in range(w.size):\n",
        "      w[j]+=float(etta*(err)*inp_x[i][j])\n",
        "    error.append(err**2)\n",
        "  itr+=1 "
      ],
      "execution_count": 0,
      "outputs": []
    },
    {
      "cell_type": "code",
      "metadata": {
        "id": "ydQg9Gzt8CJc",
        "colab_type": "code",
        "outputId": "9d8f9a77-d780-4cb4-efac-6687d3b705a9",
        "colab": {
          "base_uri": "https://localhost:8080/",
          "height": 366
        }
      },
      "source": [
        "print(\"Weight vector after:\")\n",
        "print(str(w))\n",
        "print(\"True Weights:\" )\n",
        "print(str([-1, 0.5, -2, 0.3]))\n",
        "plt.figure()\n",
        "plt.plot(error)\n",
        "plt.xlabel(\"Iterations\")\n",
        "plt.ylabel(\"Error value\")"
      ],
      "execution_count": 0,
      "outputs": [
        {
          "output_type": "stream",
          "text": [
            "Weight vector after:\n",
            "[-0.97760411  0.42242011 -2.00882279  0.33281329]\n",
            "True Weights:\n",
            "[-1, 0.5, -2, 0.3]\n"
          ],
          "name": "stdout"
        },
        {
          "output_type": "execute_result",
          "data": {
            "text/plain": [
              "Text(0, 0.5, 'Error value')"
            ]
          },
          "metadata": {
            "tags": []
          },
          "execution_count": 15
        },
        {
          "output_type": "display_data",
          "data": {
            "image/png": "[encoded data removed]",
            "text/plain": [
              "<Figure size 432x288 with 1 Axes>"
            ]
          },
          "metadata": {
            "tags": []
          }
        }
      ]
    },
    {
      "cell_type": "code",
      "metadata": {
        "id": "Z93r6isO8EQJ",
        "colab_type": "code",
        "colab": {}
      },
      "source": [
        ""
      ],
      "execution_count": 0,
      "outputs": []
    }
  ]
}